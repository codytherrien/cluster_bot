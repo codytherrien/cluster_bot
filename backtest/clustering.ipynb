{
 "cells": [
  {
   "cell_type": "code",
   "execution_count": 1,
   "metadata": {
    "pycharm": {
     "name": "#%%\n"
    }
   },
   "outputs": [],
   "source": [
    "import yahoo_fin.stock_info as si\n",
    "import pandas as pd\n",
    "from sklearn.cluster import AgglomerativeClustering\n",
    "import scipy.cluster.hierarchy as shc\n",
    "import matplotlib.pyplot as plt"
   ]
  },
  {
   "cell_type": "code",
   "execution_count": 2,
   "metadata": {
    "pycharm": {
     "name": "#%%\n"
    }
   },
   "outputs": [],
   "source": [
    "sp500_list = si.tickers_sp500()"
   ]
  },
  {
   "cell_type": "code",
   "execution_count": 3,
   "metadata": {
    "pycharm": {
     "name": "#%%\n"
    }
   },
   "outputs": [],
   "source": [
    "sp500_historical = {}\n",
    "for ticker in sp500_list:\n",
    "    sp500_historical[ticker] = si.get_data(ticker, start_date=\"01/01/2018\", index_as_date = False, interval=\"1d\") "
   ]
  },
  {
   "cell_type": "code",
   "execution_count": 4,
   "metadata": {
    "pycharm": {
     "name": "#%%\n"
    }
   },
   "outputs": [],
   "source": [
    "for ticker in sp500_list:\n",
    "    sp500_historical[ticker]['pct_change_close'] = sp500_historical[ticker]['adjclose'].pct_change()\n",
    "    sp500_historical[ticker]['five_day_mean'] = sp500_historical[ticker]['pct_change_close'].rolling(5).mean()\n",
    "    sp500_historical[ticker]['five_day_var'] = sp500_historical[ticker]['pct_change_close'].rolling(5).var()\n",
    "    sp500_historical[ticker]['twenty_day_mean'] = sp500_historical[ticker]['pct_change_close'].rolling(20).mean()\n",
    "    sp500_historical[ticker]['twenty_day_var'] = sp500_historical[ticker]['pct_change_close'].rolling(20).var()\n"
   ]
  },
  {
   "cell_type": "code",
   "execution_count": 5,
   "metadata": {
    "pycharm": {
     "name": "#%%\n"
    }
   },
   "outputs": [
    {
     "data": {
      "text/html": [
       "<div>\n",
       "<style scoped>\n",
       "    .dataframe tbody tr th:only-of-type {\n",
       "        vertical-align: middle;\n",
       "    }\n",
       "\n",
       "    .dataframe tbody tr th {\n",
       "        vertical-align: top;\n",
       "    }\n",
       "\n",
       "    .dataframe thead th {\n",
       "        text-align: right;\n",
       "    }\n",
       "</style>\n",
       "<table border=\"1\" class=\"dataframe\">\n",
       "  <thead>\n",
       "    <tr style=\"text-align: right;\">\n",
       "      <th></th>\n",
       "      <th>date</th>\n",
       "      <th>open</th>\n",
       "      <th>high</th>\n",
       "      <th>low</th>\n",
       "      <th>close</th>\n",
       "      <th>adjclose</th>\n",
       "      <th>volume</th>\n",
       "      <th>ticker</th>\n",
       "      <th>pct_change_close</th>\n",
       "      <th>five_day_mean</th>\n",
       "      <th>five_day_var</th>\n",
       "      <th>twenty_day_mean</th>\n",
       "      <th>twenty_day_var</th>\n",
       "    </tr>\n",
       "  </thead>\n",
       "  <tbody>\n",
       "    <tr>\n",
       "      <th>0</th>\n",
       "      <td>2018-01-02</td>\n",
       "      <td>52.417000</td>\n",
       "      <td>53.347000</td>\n",
       "      <td>52.261501</td>\n",
       "      <td>53.250000</td>\n",
       "      <td>53.250000</td>\n",
       "      <td>24752000</td>\n",
       "      <td>GOOG</td>\n",
       "      <td>NaN</td>\n",
       "      <td>NaN</td>\n",
       "      <td>NaN</td>\n",
       "      <td>NaN</td>\n",
       "      <td>NaN</td>\n",
       "    </tr>\n",
       "    <tr>\n",
       "      <th>1</th>\n",
       "      <td>2018-01-03</td>\n",
       "      <td>53.215500</td>\n",
       "      <td>54.314499</td>\n",
       "      <td>53.160500</td>\n",
       "      <td>54.124001</td>\n",
       "      <td>54.124001</td>\n",
       "      <td>28604000</td>\n",
       "      <td>GOOG</td>\n",
       "      <td>0.016413</td>\n",
       "      <td>NaN</td>\n",
       "      <td>NaN</td>\n",
       "      <td>NaN</td>\n",
       "      <td>NaN</td>\n",
       "    </tr>\n",
       "    <tr>\n",
       "      <th>2</th>\n",
       "      <td>2018-01-04</td>\n",
       "      <td>54.400002</td>\n",
       "      <td>54.678501</td>\n",
       "      <td>54.200100</td>\n",
       "      <td>54.320000</td>\n",
       "      <td>54.320000</td>\n",
       "      <td>20092000</td>\n",
       "      <td>GOOG</td>\n",
       "      <td>0.003621</td>\n",
       "      <td>NaN</td>\n",
       "      <td>NaN</td>\n",
       "      <td>NaN</td>\n",
       "      <td>NaN</td>\n",
       "    </tr>\n",
       "    <tr>\n",
       "      <th>3</th>\n",
       "      <td>2018-01-05</td>\n",
       "      <td>54.700001</td>\n",
       "      <td>55.212502</td>\n",
       "      <td>54.599998</td>\n",
       "      <td>55.111500</td>\n",
       "      <td>55.111500</td>\n",
       "      <td>25582000</td>\n",
       "      <td>GOOG</td>\n",
       "      <td>0.014571</td>\n",
       "      <td>NaN</td>\n",
       "      <td>NaN</td>\n",
       "      <td>NaN</td>\n",
       "      <td>NaN</td>\n",
       "    </tr>\n",
       "    <tr>\n",
       "      <th>4</th>\n",
       "      <td>2018-01-08</td>\n",
       "      <td>55.111500</td>\n",
       "      <td>55.563499</td>\n",
       "      <td>55.081001</td>\n",
       "      <td>55.347000</td>\n",
       "      <td>55.347000</td>\n",
       "      <td>20952000</td>\n",
       "      <td>GOOG</td>\n",
       "      <td>0.004273</td>\n",
       "      <td>NaN</td>\n",
       "      <td>NaN</td>\n",
       "      <td>NaN</td>\n",
       "      <td>NaN</td>\n",
       "    </tr>\n",
       "    <tr>\n",
       "      <th>...</th>\n",
       "      <td>...</td>\n",
       "      <td>...</td>\n",
       "      <td>...</td>\n",
       "      <td>...</td>\n",
       "      <td>...</td>\n",
       "      <td>...</td>\n",
       "      <td>...</td>\n",
       "      <td>...</td>\n",
       "      <td>...</td>\n",
       "      <td>...</td>\n",
       "      <td>...</td>\n",
       "      <td>...</td>\n",
       "      <td>...</td>\n",
       "    </tr>\n",
       "    <tr>\n",
       "      <th>1240</th>\n",
       "      <td>2022-12-05</td>\n",
       "      <td>99.815002</td>\n",
       "      <td>101.750000</td>\n",
       "      <td>99.355003</td>\n",
       "      <td>99.870003</td>\n",
       "      <td>99.870003</td>\n",
       "      <td>19955500</td>\n",
       "      <td>GOOG</td>\n",
       "      <td>-0.009521</td>\n",
       "      <td>0.007783</td>\n",
       "      <td>0.000962</td>\n",
       "      <td>0.007405</td>\n",
       "      <td>0.000671</td>\n",
       "    </tr>\n",
       "    <tr>\n",
       "      <th>1241</th>\n",
       "      <td>2022-12-06</td>\n",
       "      <td>99.669998</td>\n",
       "      <td>100.209999</td>\n",
       "      <td>96.760002</td>\n",
       "      <td>97.309998</td>\n",
       "      <td>97.309998</td>\n",
       "      <td>20877600</td>\n",
       "      <td>GOOG</td>\n",
       "      <td>-0.025633</td>\n",
       "      <td>0.004340</td>\n",
       "      <td>0.001160</td>\n",
       "      <td>0.004999</td>\n",
       "      <td>0.000710</td>\n",
       "    </tr>\n",
       "    <tr>\n",
       "      <th>1242</th>\n",
       "      <td>2022-12-07</td>\n",
       "      <td>96.769997</td>\n",
       "      <td>97.309998</td>\n",
       "      <td>95.025002</td>\n",
       "      <td>95.150002</td>\n",
       "      <td>95.150002</td>\n",
       "      <td>26647900</td>\n",
       "      <td>GOOG</td>\n",
       "      <td>-0.022197</td>\n",
       "      <td>-0.012694</td>\n",
       "      <td>0.000114</td>\n",
       "      <td>0.003742</td>\n",
       "      <td>0.000747</td>\n",
       "    </tr>\n",
       "    <tr>\n",
       "      <th>1243</th>\n",
       "      <td>2022-12-08</td>\n",
       "      <td>95.690002</td>\n",
       "      <td>95.870003</td>\n",
       "      <td>93.800003</td>\n",
       "      <td>93.949997</td>\n",
       "      <td>93.949997</td>\n",
       "      <td>25593200</td>\n",
       "      <td>GOOG</td>\n",
       "      <td>-0.012612</td>\n",
       "      <td>-0.014881</td>\n",
       "      <td>0.000078</td>\n",
       "      <td>0.003961</td>\n",
       "      <td>0.000739</td>\n",
       "    </tr>\n",
       "    <tr>\n",
       "      <th>1244</th>\n",
       "      <td>2022-12-09</td>\n",
       "      <td>93.900002</td>\n",
       "      <td>94.489998</td>\n",
       "      <td>93.019997</td>\n",
       "      <td>93.070000</td>\n",
       "      <td>93.070000</td>\n",
       "      <td>21873700</td>\n",
       "      <td>GOOG</td>\n",
       "      <td>-0.009367</td>\n",
       "      <td>-0.015866</td>\n",
       "      <td>0.000057</td>\n",
       "      <td>-0.000381</td>\n",
       "      <td>0.000444</td>\n",
       "    </tr>\n",
       "  </tbody>\n",
       "</table>\n",
       "<p>1245 rows × 13 columns</p>\n",
       "</div>"
      ],
      "text/plain": [
       "           date       open        high        low      close   adjclose  \\\n",
       "0    2018-01-02  52.417000   53.347000  52.261501  53.250000  53.250000   \n",
       "1    2018-01-03  53.215500   54.314499  53.160500  54.124001  54.124001   \n",
       "2    2018-01-04  54.400002   54.678501  54.200100  54.320000  54.320000   \n",
       "3    2018-01-05  54.700001   55.212502  54.599998  55.111500  55.111500   \n",
       "4    2018-01-08  55.111500   55.563499  55.081001  55.347000  55.347000   \n",
       "...         ...        ...         ...        ...        ...        ...   \n",
       "1240 2022-12-05  99.815002  101.750000  99.355003  99.870003  99.870003   \n",
       "1241 2022-12-06  99.669998  100.209999  96.760002  97.309998  97.309998   \n",
       "1242 2022-12-07  96.769997   97.309998  95.025002  95.150002  95.150002   \n",
       "1243 2022-12-08  95.690002   95.870003  93.800003  93.949997  93.949997   \n",
       "1244 2022-12-09  93.900002   94.489998  93.019997  93.070000  93.070000   \n",
       "\n",
       "        volume ticker  pct_change_close  five_day_mean  five_day_var  \\\n",
       "0     24752000   GOOG               NaN            NaN           NaN   \n",
       "1     28604000   GOOG          0.016413            NaN           NaN   \n",
       "2     20092000   GOOG          0.003621            NaN           NaN   \n",
       "3     25582000   GOOG          0.014571            NaN           NaN   \n",
       "4     20952000   GOOG          0.004273            NaN           NaN   \n",
       "...        ...    ...               ...            ...           ...   \n",
       "1240  19955500   GOOG         -0.009521       0.007783      0.000962   \n",
       "1241  20877600   GOOG         -0.025633       0.004340      0.001160   \n",
       "1242  26647900   GOOG         -0.022197      -0.012694      0.000114   \n",
       "1243  25593200   GOOG         -0.012612      -0.014881      0.000078   \n",
       "1244  21873700   GOOG         -0.009367      -0.015866      0.000057   \n",
       "\n",
       "      twenty_day_mean  twenty_day_var  \n",
       "0                 NaN             NaN  \n",
       "1                 NaN             NaN  \n",
       "2                 NaN             NaN  \n",
       "3                 NaN             NaN  \n",
       "4                 NaN             NaN  \n",
       "...               ...             ...  \n",
       "1240         0.007405        0.000671  \n",
       "1241         0.004999        0.000710  \n",
       "1242         0.003742        0.000747  \n",
       "1243         0.003961        0.000739  \n",
       "1244        -0.000381        0.000444  \n",
       "\n",
       "[1245 rows x 13 columns]"
      ]
     },
     "execution_count": 5,
     "metadata": {},
     "output_type": "execute_result"
    }
   ],
   "source": [
    "sp500_historical['GOOG']"
   ]
  },
  {
   "cell_type": "code",
   "execution_count": 6,
   "metadata": {
    "pycharm": {
     "name": "#%%\n"
    }
   },
   "outputs": [
    {
     "data": {
      "text/html": [
       "<div>\n",
       "<style scoped>\n",
       "    .dataframe tbody tr th:only-of-type {\n",
       "        vertical-align: middle;\n",
       "    }\n",
       "\n",
       "    .dataframe tbody tr th {\n",
       "        vertical-align: top;\n",
       "    }\n",
       "\n",
       "    .dataframe thead th {\n",
       "        text-align: right;\n",
       "    }\n",
       "</style>\n",
       "<table border=\"1\" class=\"dataframe\">\n",
       "  <thead>\n",
       "    <tr style=\"text-align: right;\">\n",
       "      <th></th>\n",
       "      <th>date</th>\n",
       "      <th>open</th>\n",
       "      <th>high</th>\n",
       "      <th>low</th>\n",
       "      <th>close</th>\n",
       "      <th>adjclose</th>\n",
       "      <th>volume</th>\n",
       "      <th>ticker</th>\n",
       "      <th>pct_change_close</th>\n",
       "      <th>five_day_mean</th>\n",
       "      <th>five_day_var</th>\n",
       "      <th>twenty_day_mean</th>\n",
       "      <th>twenty_day_var</th>\n",
       "    </tr>\n",
       "  </thead>\n",
       "  <tbody>\n",
       "    <tr>\n",
       "      <th>0</th>\n",
       "      <td>2018-01-02</td>\n",
       "      <td>67.419998</td>\n",
       "      <td>67.889999</td>\n",
       "      <td>67.339996</td>\n",
       "      <td>67.599998</td>\n",
       "      <td>65.192207</td>\n",
       "      <td>1047800</td>\n",
       "      <td>A</td>\n",
       "      <td>NaN</td>\n",
       "      <td>NaN</td>\n",
       "      <td>NaN</td>\n",
       "      <td>NaN</td>\n",
       "      <td>NaN</td>\n",
       "    </tr>\n",
       "    <tr>\n",
       "      <th>0</th>\n",
       "      <td>2018-12-07</td>\n",
       "      <td>22.000000</td>\n",
       "      <td>22.750000</td>\n",
       "      <td>18.510000</td>\n",
       "      <td>18.600000</td>\n",
       "      <td>18.600000</td>\n",
       "      <td>12995600</td>\n",
       "      <td>MRNA</td>\n",
       "      <td>NaN</td>\n",
       "      <td>NaN</td>\n",
       "      <td>NaN</td>\n",
       "      <td>NaN</td>\n",
       "      <td>NaN</td>\n",
       "    </tr>\n",
       "    <tr>\n",
       "      <th>0</th>\n",
       "      <td>2018-01-02</td>\n",
       "      <td>53.998093</td>\n",
       "      <td>54.150764</td>\n",
       "      <td>53.482822</td>\n",
       "      <td>53.645039</td>\n",
       "      <td>46.217430</td>\n",
       "      <td>10556504</td>\n",
       "      <td>MRK</td>\n",
       "      <td>NaN</td>\n",
       "      <td>NaN</td>\n",
       "      <td>NaN</td>\n",
       "      <td>NaN</td>\n",
       "      <td>NaN</td>\n",
       "    </tr>\n",
       "    <tr>\n",
       "      <th>0</th>\n",
       "      <td>2018-01-02</td>\n",
       "      <td>113.000000</td>\n",
       "      <td>116.349998</td>\n",
       "      <td>112.660004</td>\n",
       "      <td>116.309998</td>\n",
       "      <td>111.711136</td>\n",
       "      <td>285800</td>\n",
       "      <td>MPWR</td>\n",
       "      <td>NaN</td>\n",
       "      <td>NaN</td>\n",
       "      <td>NaN</td>\n",
       "      <td>NaN</td>\n",
       "      <td>NaN</td>\n",
       "    </tr>\n",
       "    <tr>\n",
       "      <th>0</th>\n",
       "      <td>2018-01-02</td>\n",
       "      <td>66.110001</td>\n",
       "      <td>67.250000</td>\n",
       "      <td>65.980003</td>\n",
       "      <td>67.180000</td>\n",
       "      <td>55.811996</td>\n",
       "      <td>3055900</td>\n",
       "      <td>MPC</td>\n",
       "      <td>NaN</td>\n",
       "      <td>NaN</td>\n",
       "      <td>NaN</td>\n",
       "      <td>NaN</td>\n",
       "      <td>NaN</td>\n",
       "    </tr>\n",
       "    <tr>\n",
       "      <th>...</th>\n",
       "      <td>...</td>\n",
       "      <td>...</td>\n",
       "      <td>...</td>\n",
       "      <td>...</td>\n",
       "      <td>...</td>\n",
       "      <td>...</td>\n",
       "      <td>...</td>\n",
       "      <td>...</td>\n",
       "      <td>...</td>\n",
       "      <td>...</td>\n",
       "      <td>...</td>\n",
       "      <td>...</td>\n",
       "      <td>...</td>\n",
       "    </tr>\n",
       "    <tr>\n",
       "      <th>1244</th>\n",
       "      <td>2022-12-09</td>\n",
       "      <td>221.809998</td>\n",
       "      <td>222.610001</td>\n",
       "      <td>219.440002</td>\n",
       "      <td>219.759995</td>\n",
       "      <td>219.759995</td>\n",
       "      <td>916900</td>\n",
       "      <td>ITW</td>\n",
       "      <td>-0.007049</td>\n",
       "      <td>-0.007557</td>\n",
       "      <td>0.000074</td>\n",
       "      <td>-0.000971</td>\n",
       "      <td>0.000084</td>\n",
       "    </tr>\n",
       "    <tr>\n",
       "      <th>1244</th>\n",
       "      <td>2022-12-09</td>\n",
       "      <td>117.160004</td>\n",
       "      <td>118.040001</td>\n",
       "      <td>116.040001</td>\n",
       "      <td>116.519997</td>\n",
       "      <td>116.519997</td>\n",
       "      <td>364000</td>\n",
       "      <td>GL</td>\n",
       "      <td>-0.009268</td>\n",
       "      <td>-0.007712</td>\n",
       "      <td>0.000085</td>\n",
       "      <td>0.001247</td>\n",
       "      <td>0.000181</td>\n",
       "    </tr>\n",
       "    <tr>\n",
       "      <th>1244</th>\n",
       "      <td>2022-12-09</td>\n",
       "      <td>529.109985</td>\n",
       "      <td>532.080017</td>\n",
       "      <td>524.000000</td>\n",
       "      <td>524.919983</td>\n",
       "      <td>524.919983</td>\n",
       "      <td>873100</td>\n",
       "      <td>ELV</td>\n",
       "      <td>-0.007938</td>\n",
       "      <td>0.000525</td>\n",
       "      <td>0.000053</td>\n",
       "      <td>0.000602</td>\n",
       "      <td>0.000395</td>\n",
       "    </tr>\n",
       "    <tr>\n",
       "      <th>1244</th>\n",
       "      <td>2022-12-09</td>\n",
       "      <td>88.900002</td>\n",
       "      <td>90.300003</td>\n",
       "      <td>88.629997</td>\n",
       "      <td>89.089996</td>\n",
       "      <td>89.089996</td>\n",
       "      <td>67316900</td>\n",
       "      <td>AMZN</td>\n",
       "      <td>-0.013946</td>\n",
       "      <td>-0.010735</td>\n",
       "      <td>0.000525</td>\n",
       "      <td>-0.003834</td>\n",
       "      <td>0.000467</td>\n",
       "    </tr>\n",
       "    <tr>\n",
       "      <th>1244</th>\n",
       "      <td>2022-12-09</td>\n",
       "      <td>153.940002</td>\n",
       "      <td>156.330002</td>\n",
       "      <td>152.740005</td>\n",
       "      <td>153.389999</td>\n",
       "      <td>153.389999</td>\n",
       "      <td>3274900</td>\n",
       "      <td>ZTS</td>\n",
       "      <td>-0.001887</td>\n",
       "      <td>-0.005062</td>\n",
       "      <td>0.000281</td>\n",
       "      <td>0.003833</td>\n",
       "      <td>0.000388</td>\n",
       "    </tr>\n",
       "  </tbody>\n",
       "</table>\n",
       "<p>621692 rows × 13 columns</p>\n",
       "</div>"
      ],
      "text/plain": [
       "           date        open        high         low       close    adjclose  \\\n",
       "0    2018-01-02   67.419998   67.889999   67.339996   67.599998   65.192207   \n",
       "0    2018-12-07   22.000000   22.750000   18.510000   18.600000   18.600000   \n",
       "0    2018-01-02   53.998093   54.150764   53.482822   53.645039   46.217430   \n",
       "0    2018-01-02  113.000000  116.349998  112.660004  116.309998  111.711136   \n",
       "0    2018-01-02   66.110001   67.250000   65.980003   67.180000   55.811996   \n",
       "...         ...         ...         ...         ...         ...         ...   \n",
       "1244 2022-12-09  221.809998  222.610001  219.440002  219.759995  219.759995   \n",
       "1244 2022-12-09  117.160004  118.040001  116.040001  116.519997  116.519997   \n",
       "1244 2022-12-09  529.109985  532.080017  524.000000  524.919983  524.919983   \n",
       "1244 2022-12-09   88.900002   90.300003   88.629997   89.089996   89.089996   \n",
       "1244 2022-12-09  153.940002  156.330002  152.740005  153.389999  153.389999   \n",
       "\n",
       "        volume ticker  pct_change_close  five_day_mean  five_day_var  \\\n",
       "0      1047800      A               NaN            NaN           NaN   \n",
       "0     12995600   MRNA               NaN            NaN           NaN   \n",
       "0     10556504    MRK               NaN            NaN           NaN   \n",
       "0       285800   MPWR               NaN            NaN           NaN   \n",
       "0      3055900    MPC               NaN            NaN           NaN   \n",
       "...        ...    ...               ...            ...           ...   \n",
       "1244    916900    ITW         -0.007049      -0.007557      0.000074   \n",
       "1244    364000     GL         -0.009268      -0.007712      0.000085   \n",
       "1244    873100    ELV         -0.007938       0.000525      0.000053   \n",
       "1244  67316900   AMZN         -0.013946      -0.010735      0.000525   \n",
       "1244   3274900    ZTS         -0.001887      -0.005062      0.000281   \n",
       "\n",
       "      twenty_day_mean  twenty_day_var  \n",
       "0                 NaN             NaN  \n",
       "0                 NaN             NaN  \n",
       "0                 NaN             NaN  \n",
       "0                 NaN             NaN  \n",
       "0                 NaN             NaN  \n",
       "...               ...             ...  \n",
       "1244        -0.000971        0.000084  \n",
       "1244         0.001247        0.000181  \n",
       "1244         0.000602        0.000395  \n",
       "1244        -0.003834        0.000467  \n",
       "1244         0.003833        0.000388  \n",
       "\n",
       "[621692 rows x 13 columns]"
      ]
     },
     "execution_count": 6,
     "metadata": {},
     "output_type": "execute_result"
    }
   ],
   "source": [
    "sp_df = None\n",
    "for ticker in sp500_list:\n",
    "    if sp_df is not None:\n",
    "        sp_df = pd.concat([sp_df, sp500_historical[ticker]])\n",
    "    else:\n",
    "        sp_df = sp500_historical[ticker]\n",
    "\n",
    "sp_df.sort_index(inplace=True)\n",
    "sp_df"
   ]
  },
  {
   "cell_type": "code",
   "execution_count": 7,
   "metadata": {
    "pycharm": {
     "name": "#%%\n"
    }
   },
   "outputs": [
    {
     "data": {
      "text/html": [
       "<div>\n",
       "<style scoped>\n",
       "    .dataframe tbody tr th:only-of-type {\n",
       "        vertical-align: middle;\n",
       "    }\n",
       "\n",
       "    .dataframe tbody tr th {\n",
       "        vertical-align: top;\n",
       "    }\n",
       "\n",
       "    .dataframe thead th {\n",
       "        text-align: right;\n",
       "    }\n",
       "</style>\n",
       "<table border=\"1\" class=\"dataframe\">\n",
       "  <thead>\n",
       "    <tr style=\"text-align: right;\">\n",
       "      <th></th>\n",
       "      <th>date</th>\n",
       "      <th>open</th>\n",
       "      <th>high</th>\n",
       "      <th>low</th>\n",
       "      <th>close</th>\n",
       "      <th>adjclose</th>\n",
       "      <th>volume</th>\n",
       "      <th>ticker</th>\n",
       "      <th>pct_change_close</th>\n",
       "      <th>five_day_mean</th>\n",
       "      <th>five_day_var</th>\n",
       "      <th>twenty_day_mean</th>\n",
       "      <th>twenty_day_var</th>\n",
       "    </tr>\n",
       "  </thead>\n",
       "  <tbody>\n",
       "    <tr>\n",
       "      <th>63</th>\n",
       "      <td>2021-08-13</td>\n",
       "      <td>33.500000</td>\n",
       "      <td>34.490002</td>\n",
       "      <td>32.860001</td>\n",
       "      <td>34.209999</td>\n",
       "      <td>32.419765</td>\n",
       "      <td>3441500</td>\n",
       "      <td>OGN</td>\n",
       "      <td>0.021194</td>\n",
       "      <td>0.031206</td>\n",
       "      <td>0.003007</td>\n",
       "      <td>0.009034</td>\n",
       "      <td>0.001127</td>\n",
       "    </tr>\n",
       "    <tr>\n",
       "      <th>354</th>\n",
       "      <td>2021-08-13</td>\n",
       "      <td>90.260002</td>\n",
       "      <td>91.029999</td>\n",
       "      <td>90.099998</td>\n",
       "      <td>90.660004</td>\n",
       "      <td>88.878403</td>\n",
       "      <td>2823900</td>\n",
       "      <td>OTIS</td>\n",
       "      <td>0.005100</td>\n",
       "      <td>0.001160</td>\n",
       "      <td>0.000022</td>\n",
       "      <td>0.003312</td>\n",
       "      <td>0.000078</td>\n",
       "    </tr>\n",
       "    <tr>\n",
       "      <th>354</th>\n",
       "      <td>2021-08-13</td>\n",
       "      <td>55.939999</td>\n",
       "      <td>56.250000</td>\n",
       "      <td>55.740002</td>\n",
       "      <td>56.150002</td>\n",
       "      <td>55.191662</td>\n",
       "      <td>2316300</td>\n",
       "      <td>CARR</td>\n",
       "      <td>0.003037</td>\n",
       "      <td>-0.000783</td>\n",
       "      <td>0.000084</td>\n",
       "      <td>0.006920</td>\n",
       "      <td>0.000362</td>\n",
       "    </tr>\n",
       "    <tr>\n",
       "      <th>560</th>\n",
       "      <td>2021-08-13</td>\n",
       "      <td>46.139999</td>\n",
       "      <td>46.330002</td>\n",
       "      <td>45.900002</td>\n",
       "      <td>45.990002</td>\n",
       "      <td>45.396511</td>\n",
       "      <td>2872700</td>\n",
       "      <td>CTVA</td>\n",
       "      <td>-0.001520</td>\n",
       "      <td>0.006064</td>\n",
       "      <td>0.000028</td>\n",
       "      <td>0.005133</td>\n",
       "      <td>0.000443</td>\n",
       "    </tr>\n",
       "    <tr>\n",
       "      <th>606</th>\n",
       "      <td>2021-08-13</td>\n",
       "      <td>63.970001</td>\n",
       "      <td>64.099998</td>\n",
       "      <td>63.349998</td>\n",
       "      <td>63.689999</td>\n",
       "      <td>59.232819</td>\n",
       "      <td>2385600</td>\n",
       "      <td>DOW</td>\n",
       "      <td>-0.004999</td>\n",
       "      <td>0.005458</td>\n",
       "      <td>0.000164</td>\n",
       "      <td>0.003108</td>\n",
       "      <td>0.000268</td>\n",
       "    </tr>\n",
       "    <tr>\n",
       "      <th>...</th>\n",
       "      <td>...</td>\n",
       "      <td>...</td>\n",
       "      <td>...</td>\n",
       "      <td>...</td>\n",
       "      <td>...</td>\n",
       "      <td>...</td>\n",
       "      <td>...</td>\n",
       "      <td>...</td>\n",
       "      <td>...</td>\n",
       "      <td>...</td>\n",
       "      <td>...</td>\n",
       "      <td>...</td>\n",
       "      <td>...</td>\n",
       "    </tr>\n",
       "    <tr>\n",
       "      <th>910</th>\n",
       "      <td>2021-08-13</td>\n",
       "      <td>122.815002</td>\n",
       "      <td>123.849998</td>\n",
       "      <td>121.750000</td>\n",
       "      <td>122.852501</td>\n",
       "      <td>122.852501</td>\n",
       "      <td>1347200</td>\n",
       "      <td>DXCM</td>\n",
       "      <td>-0.002922</td>\n",
       "      <td>-0.009853</td>\n",
       "      <td>0.000273</td>\n",
       "      <td>0.005092</td>\n",
       "      <td>0.001190</td>\n",
       "    </tr>\n",
       "    <tr>\n",
       "      <th>910</th>\n",
       "      <td>2021-08-13</td>\n",
       "      <td>43.259998</td>\n",
       "      <td>43.529999</td>\n",
       "      <td>42.860001</td>\n",
       "      <td>43.450001</td>\n",
       "      <td>43.450001</td>\n",
       "      <td>6034400</td>\n",
       "      <td>ON</td>\n",
       "      <td>0.001152</td>\n",
       "      <td>-0.008092</td>\n",
       "      <td>0.000308</td>\n",
       "      <td>0.011173</td>\n",
       "      <td>0.001134</td>\n",
       "    </tr>\n",
       "    <tr>\n",
       "      <th>910</th>\n",
       "      <td>2021-08-13</td>\n",
       "      <td>219.880005</td>\n",
       "      <td>220.550003</td>\n",
       "      <td>217.729996</td>\n",
       "      <td>218.570007</td>\n",
       "      <td>212.377533</td>\n",
       "      <td>2049400</td>\n",
       "      <td>CAT</td>\n",
       "      <td>-0.007583</td>\n",
       "      <td>0.009771</td>\n",
       "      <td>0.000375</td>\n",
       "      <td>0.002880</td>\n",
       "      <td>0.000250</td>\n",
       "    </tr>\n",
       "    <tr>\n",
       "      <th>910</th>\n",
       "      <td>2021-08-13</td>\n",
       "      <td>89.620003</td>\n",
       "      <td>89.629997</td>\n",
       "      <td>88.480003</td>\n",
       "      <td>88.680000</td>\n",
       "      <td>87.245346</td>\n",
       "      <td>1542400</td>\n",
       "      <td>BALL</td>\n",
       "      <td>-0.008608</td>\n",
       "      <td>0.008015</td>\n",
       "      <td>0.000179</td>\n",
       "      <td>0.001850</td>\n",
       "      <td>0.000359</td>\n",
       "    </tr>\n",
       "    <tr>\n",
       "      <th>910</th>\n",
       "      <td>2021-08-13</td>\n",
       "      <td>125.250000</td>\n",
       "      <td>125.330002</td>\n",
       "      <td>124.269997</td>\n",
       "      <td>124.639999</td>\n",
       "      <td>120.044281</td>\n",
       "      <td>433800</td>\n",
       "      <td>GPC</td>\n",
       "      <td>-0.005029</td>\n",
       "      <td>0.000593</td>\n",
       "      <td>0.000036</td>\n",
       "      <td>-0.001090</td>\n",
       "      <td>0.000182</td>\n",
       "    </tr>\n",
       "  </tbody>\n",
       "</table>\n",
       "<p>502 rows × 13 columns</p>\n",
       "</div>"
      ],
      "text/plain": [
       "          date        open        high         low       close    adjclose  \\\n",
       "63  2021-08-13   33.500000   34.490002   32.860001   34.209999   32.419765   \n",
       "354 2021-08-13   90.260002   91.029999   90.099998   90.660004   88.878403   \n",
       "354 2021-08-13   55.939999   56.250000   55.740002   56.150002   55.191662   \n",
       "560 2021-08-13   46.139999   46.330002   45.900002   45.990002   45.396511   \n",
       "606 2021-08-13   63.970001   64.099998   63.349998   63.689999   59.232819   \n",
       "..         ...         ...         ...         ...         ...         ...   \n",
       "910 2021-08-13  122.815002  123.849998  121.750000  122.852501  122.852501   \n",
       "910 2021-08-13   43.259998   43.529999   42.860001   43.450001   43.450001   \n",
       "910 2021-08-13  219.880005  220.550003  217.729996  218.570007  212.377533   \n",
       "910 2021-08-13   89.620003   89.629997   88.480003   88.680000   87.245346   \n",
       "910 2021-08-13  125.250000  125.330002  124.269997  124.639999  120.044281   \n",
       "\n",
       "      volume ticker  pct_change_close  five_day_mean  five_day_var  \\\n",
       "63   3441500    OGN          0.021194       0.031206      0.003007   \n",
       "354  2823900   OTIS          0.005100       0.001160      0.000022   \n",
       "354  2316300   CARR          0.003037      -0.000783      0.000084   \n",
       "560  2872700   CTVA         -0.001520       0.006064      0.000028   \n",
       "606  2385600    DOW         -0.004999       0.005458      0.000164   \n",
       "..       ...    ...               ...            ...           ...   \n",
       "910  1347200   DXCM         -0.002922      -0.009853      0.000273   \n",
       "910  6034400     ON          0.001152      -0.008092      0.000308   \n",
       "910  2049400    CAT         -0.007583       0.009771      0.000375   \n",
       "910  1542400   BALL         -0.008608       0.008015      0.000179   \n",
       "910   433800    GPC         -0.005029       0.000593      0.000036   \n",
       "\n",
       "     twenty_day_mean  twenty_day_var  \n",
       "63          0.009034        0.001127  \n",
       "354         0.003312        0.000078  \n",
       "354         0.006920        0.000362  \n",
       "560         0.005133        0.000443  \n",
       "606         0.003108        0.000268  \n",
       "..               ...             ...  \n",
       "910         0.005092        0.001190  \n",
       "910         0.011173        0.001134  \n",
       "910         0.002880        0.000250  \n",
       "910         0.001850        0.000359  \n",
       "910        -0.001090        0.000182  \n",
       "\n",
       "[502 rows x 13 columns]"
      ]
     },
     "execution_count": 7,
     "metadata": {},
     "output_type": "execute_result"
    }
   ],
   "source": [
    "sample_df = sp_df[sp_df['date'] == '2021-08-13']\n",
    "sample_df"
   ]
  },
  {
   "cell_type": "code",
   "execution_count": 8,
   "metadata": {
    "pycharm": {
     "name": "#%%\n"
    }
   },
   "outputs": [
    {
     "data": {
      "image/png": "[encoded data removed]",
      "text/plain": [
       "<Figure size 1080x720 with 1 Axes>"
      ]
     },
     "metadata": {
      "needs_background": "light"
     },
     "output_type": "display_data"
    }
   ],
   "source": [
    "plt.figure(figsize=(15, 10))  \n",
    "plt.title(\"Dendrograms\")  \n",
    "dend = shc.dendrogram(shc.linkage(\n",
    "    sample_df[[\n",
    "        'pct_change_close', \n",
    "        'five_day_mean', \n",
    "        'five_day_var', \n",
    "        'twenty_day_mean', \n",
    "        'twenty_day_var'\n",
    "    ]], method='ward'))"
   ]
  },
  {
   "cell_type": "code",
   "execution_count": 9,
   "metadata": {
    "pycharm": {
     "name": "#%%\n"
    }
   },
   "outputs": [
    {
     "data": {
      "image/png": "[encoded data removed]",
      "text/plain": [
       "<Figure size 1080x720 with 1 Axes>"
      ]
     },
     "metadata": {
      "needs_background": "light"
     },
     "output_type": "display_data"
    }
   ],
   "source": [
    "plt.figure(figsize=(15, 10))  \n",
    "plt.title(\"Dendrograms\")  \n",
    "dend = shc.dendrogram(shc.linkage(\n",
    "    sample_df[[\n",
    "        'pct_change_close', \n",
    "        'five_day_mean', \n",
    "        'five_day_var', \n",
    "        'twenty_day_mean', \n",
    "        'twenty_day_var'\n",
    "    ]], method='average'\n",
    "    ))"
   ]
  },
  {
   "cell_type": "code",
   "execution_count": 10,
   "metadata": {
    "pycharm": {
     "name": "#%%\n"
    }
   },
   "outputs": [
    {
     "data": {
      "image/png": "[encoded data removed]",
      "text/plain": [
       "<Figure size 1080x720 with 1 Axes>"
      ]
     },
     "metadata": {
      "needs_background": "light"
     },
     "output_type": "display_data"
    }
   ],
   "source": [
    "plt.figure(figsize=(15, 10))  \n",
    "plt.title(\"Dendrograms\")  \n",
    "dend = shc.dendrogram(shc.linkage(\n",
    "    sample_df[[\n",
    "        'pct_change_close', \n",
    "        'five_day_mean', \n",
    "        'five_day_var', \n",
    "        'twenty_day_mean', \n",
    "        'twenty_day_var'\n",
    "    ]],method='complete'\n",
    "    ))"
   ]
  },
  {
   "cell_type": "code",
   "execution_count": 11,
   "metadata": {
    "pycharm": {
     "name": "#%%\n"
    }
   },
   "outputs": [
    {
     "data": {
      "image/png": "[encoded data removed]",
      "text/plain": [
       "<Figure size 1080x720 with 1 Axes>"
      ]
     },
     "metadata": {
      "needs_background": "light"
     },
     "output_type": "display_data"
    }
   ],
   "source": [
    "plt.figure(figsize=(15, 10))  \n",
    "plt.title(\"Dendrograms\")  \n",
    "dend = shc.dendrogram(shc.linkage(\n",
    "    sample_df[[\n",
    "        'pct_change_close', \n",
    "        'five_day_mean', \n",
    "        'five_day_var', \n",
    "        'twenty_day_mean', \n",
    "        'twenty_day_var'\n",
    "    ]], method='single'\n",
    "    ))"
   ]
  },
  {
   "cell_type": "code",
   "execution_count": 12,
   "metadata": {
    "pycharm": {
     "name": "#%%\n"
    }
   },
   "outputs": [
    {
     "data": {
      "image/png": "[encoded data removed]",
      "text/plain": [
       "<Figure size 1080x720 with 2 Axes>"
      ]
     },
     "metadata": {
      "needs_background": "light"
     },
     "output_type": "display_data"
    }
   ],
   "source": [
    "hc = AgglomerativeClustering(n_clusters=4, affinity='euclidean', linkage='ward')\n",
    "labels = hc.fit_predict(sample_df[['pct_change_close', 'five_day_mean', 'five_day_var', 'twenty_day_mean', 'twenty_day_var']])\n",
    "\n",
    "fig = plt.figure(figsize=(15, 10))\n",
    "ax = fig.add_subplot(111)\n",
    "scatter = ax.scatter(sample_df['pct_change_close'], sample_df['five_day_mean'], c=labels, cmap='rainbow')\n",
    "ax.set_title('Hierarchical Clustering Results')\n",
    "ax.set_ylabel('pct_change_close')\n",
    "ax.set_xlabel('five_day_mean')\n",
    "plt.colorbar(scatter)\n",
    "plt.show()"
   ]
  },
  {
   "cell_type": "code",
   "execution_count": 13,
   "metadata": {
    "pycharm": {
     "name": "#%%\n"
    }
   },
   "outputs": [
    {
     "name": "stderr",
     "output_type": "stream",
     "text": [
      "<ipython-input-13-ffdc378b6cae>:1: SettingWithCopyWarning: \n",
      "A value is trying to be set on a copy of a slice from a DataFrame.\n",
      "Try using .loc[row_indexer,col_indexer] = value instead\n",
      "\n",
      "See the caveats in the documentation: https://pandas.pydata.org/pandas-docs/stable/user_guide/indexing.html#returning-a-view-versus-a-copy\n",
      "  sample_df['cluster'] = labels\n"
     ]
    },
    {
     "data": {
      "text/html": [
       "<div>\n",
       "<style scoped>\n",
       "    .dataframe tbody tr th:only-of-type {\n",
       "        vertical-align: middle;\n",
       "    }\n",
       "\n",
       "    .dataframe tbody tr th {\n",
       "        vertical-align: top;\n",
       "    }\n",
       "\n",
       "    .dataframe thead th {\n",
       "        text-align: right;\n",
       "    }\n",
       "</style>\n",
       "<table border=\"1\" class=\"dataframe\">\n",
       "  <thead>\n",
       "    <tr style=\"text-align: right;\">\n",
       "      <th></th>\n",
       "      <th>date</th>\n",
       "      <th>open</th>\n",
       "      <th>high</th>\n",
       "      <th>low</th>\n",
       "      <th>close</th>\n",
       "      <th>adjclose</th>\n",
       "      <th>volume</th>\n",
       "      <th>ticker</th>\n",
       "      <th>pct_change_close</th>\n",
       "      <th>five_day_mean</th>\n",
       "      <th>five_day_var</th>\n",
       "      <th>twenty_day_mean</th>\n",
       "      <th>twenty_day_var</th>\n",
       "      <th>cluster</th>\n",
       "    </tr>\n",
       "  </thead>\n",
       "  <tbody>\n",
       "    <tr>\n",
       "      <th>63</th>\n",
       "      <td>2021-08-13</td>\n",
       "      <td>33.500000</td>\n",
       "      <td>34.490002</td>\n",
       "      <td>32.860001</td>\n",
       "      <td>34.209999</td>\n",
       "      <td>32.419765</td>\n",
       "      <td>3441500</td>\n",
       "      <td>OGN</td>\n",
       "      <td>0.021194</td>\n",
       "      <td>0.031206</td>\n",
       "      <td>0.003007</td>\n",
       "      <td>0.009034</td>\n",
       "      <td>0.001127</td>\n",
       "      <td>0</td>\n",
       "    </tr>\n",
       "    <tr>\n",
       "      <th>354</th>\n",
       "      <td>2021-08-13</td>\n",
       "      <td>90.260002</td>\n",
       "      <td>91.029999</td>\n",
       "      <td>90.099998</td>\n",
       "      <td>90.660004</td>\n",
       "      <td>88.878403</td>\n",
       "      <td>2823900</td>\n",
       "      <td>OTIS</td>\n",
       "      <td>0.005100</td>\n",
       "      <td>0.001160</td>\n",
       "      <td>0.000022</td>\n",
       "      <td>0.003312</td>\n",
       "      <td>0.000078</td>\n",
       "      <td>2</td>\n",
       "    </tr>\n",
       "    <tr>\n",
       "      <th>354</th>\n",
       "      <td>2021-08-13</td>\n",
       "      <td>55.939999</td>\n",
       "      <td>56.250000</td>\n",
       "      <td>55.740002</td>\n",
       "      <td>56.150002</td>\n",
       "      <td>55.191662</td>\n",
       "      <td>2316300</td>\n",
       "      <td>CARR</td>\n",
       "      <td>0.003037</td>\n",
       "      <td>-0.000783</td>\n",
       "      <td>0.000084</td>\n",
       "      <td>0.006920</td>\n",
       "      <td>0.000362</td>\n",
       "      <td>2</td>\n",
       "    </tr>\n",
       "    <tr>\n",
       "      <th>560</th>\n",
       "      <td>2021-08-13</td>\n",
       "      <td>46.139999</td>\n",
       "      <td>46.330002</td>\n",
       "      <td>45.900002</td>\n",
       "      <td>45.990002</td>\n",
       "      <td>45.396511</td>\n",
       "      <td>2872700</td>\n",
       "      <td>CTVA</td>\n",
       "      <td>-0.001520</td>\n",
       "      <td>0.006064</td>\n",
       "      <td>0.000028</td>\n",
       "      <td>0.005133</td>\n",
       "      <td>0.000443</td>\n",
       "      <td>2</td>\n",
       "    </tr>\n",
       "    <tr>\n",
       "      <th>606</th>\n",
       "      <td>2021-08-13</td>\n",
       "      <td>63.970001</td>\n",
       "      <td>64.099998</td>\n",
       "      <td>63.349998</td>\n",
       "      <td>63.689999</td>\n",
       "      <td>59.232819</td>\n",
       "      <td>2385600</td>\n",
       "      <td>DOW</td>\n",
       "      <td>-0.004999</td>\n",
       "      <td>0.005458</td>\n",
       "      <td>0.000164</td>\n",
       "      <td>0.003108</td>\n",
       "      <td>0.000268</td>\n",
       "      <td>3</td>\n",
       "    </tr>\n",
       "    <tr>\n",
       "      <th>...</th>\n",
       "      <td>...</td>\n",
       "      <td>...</td>\n",
       "      <td>...</td>\n",
       "      <td>...</td>\n",
       "      <td>...</td>\n",
       "      <td>...</td>\n",
       "      <td>...</td>\n",
       "      <td>...</td>\n",
       "      <td>...</td>\n",
       "      <td>...</td>\n",
       "      <td>...</td>\n",
       "      <td>...</td>\n",
       "      <td>...</td>\n",
       "      <td>...</td>\n",
       "    </tr>\n",
       "    <tr>\n",
       "      <th>910</th>\n",
       "      <td>2021-08-13</td>\n",
       "      <td>122.815002</td>\n",
       "      <td>123.849998</td>\n",
       "      <td>121.750000</td>\n",
       "      <td>122.852501</td>\n",
       "      <td>122.852501</td>\n",
       "      <td>1347200</td>\n",
       "      <td>DXCM</td>\n",
       "      <td>-0.002922</td>\n",
       "      <td>-0.009853</td>\n",
       "      <td>0.000273</td>\n",
       "      <td>0.005092</td>\n",
       "      <td>0.001190</td>\n",
       "      <td>2</td>\n",
       "    </tr>\n",
       "    <tr>\n",
       "      <th>910</th>\n",
       "      <td>2021-08-13</td>\n",
       "      <td>43.259998</td>\n",
       "      <td>43.529999</td>\n",
       "      <td>42.860001</td>\n",
       "      <td>43.450001</td>\n",
       "      <td>43.450001</td>\n",
       "      <td>6034400</td>\n",
       "      <td>ON</td>\n",
       "      <td>0.001152</td>\n",
       "      <td>-0.008092</td>\n",
       "      <td>0.000308</td>\n",
       "      <td>0.011173</td>\n",
       "      <td>0.001134</td>\n",
       "      <td>2</td>\n",
       "    </tr>\n",
       "    <tr>\n",
       "      <th>910</th>\n",
       "      <td>2021-08-13</td>\n",
       "      <td>219.880005</td>\n",
       "      <td>220.550003</td>\n",
       "      <td>217.729996</td>\n",
       "      <td>218.570007</td>\n",
       "      <td>212.377533</td>\n",
       "      <td>2049400</td>\n",
       "      <td>CAT</td>\n",
       "      <td>-0.007583</td>\n",
       "      <td>0.009771</td>\n",
       "      <td>0.000375</td>\n",
       "      <td>0.002880</td>\n",
       "      <td>0.000250</td>\n",
       "      <td>3</td>\n",
       "    </tr>\n",
       "    <tr>\n",
       "      <th>910</th>\n",
       "      <td>2021-08-13</td>\n",
       "      <td>89.620003</td>\n",
       "      <td>89.629997</td>\n",
       "      <td>88.480003</td>\n",
       "      <td>88.680000</td>\n",
       "      <td>87.245346</td>\n",
       "      <td>1542400</td>\n",
       "      <td>BALL</td>\n",
       "      <td>-0.008608</td>\n",
       "      <td>0.008015</td>\n",
       "      <td>0.000179</td>\n",
       "      <td>0.001850</td>\n",
       "      <td>0.000359</td>\n",
       "      <td>3</td>\n",
       "    </tr>\n",
       "    <tr>\n",
       "      <th>910</th>\n",
       "      <td>2021-08-13</td>\n",
       "      <td>125.250000</td>\n",
       "      <td>125.330002</td>\n",
       "      <td>124.269997</td>\n",
       "      <td>124.639999</td>\n",
       "      <td>120.044281</td>\n",
       "      <td>433800</td>\n",
       "      <td>GPC</td>\n",
       "      <td>-0.005029</td>\n",
       "      <td>0.000593</td>\n",
       "      <td>0.000036</td>\n",
       "      <td>-0.001090</td>\n",
       "      <td>0.000182</td>\n",
       "      <td>2</td>\n",
       "    </tr>\n",
       "  </tbody>\n",
       "</table>\n",
       "<p>502 rows × 14 columns</p>\n",
       "</div>"
      ],
      "text/plain": [
       "          date        open        high         low       close    adjclose  \\\n",
       "63  2021-08-13   33.500000   34.490002   32.860001   34.209999   32.419765   \n",
       "354 2021-08-13   90.260002   91.029999   90.099998   90.660004   88.878403   \n",
       "354 2021-08-13   55.939999   56.250000   55.740002   56.150002   55.191662   \n",
       "560 2021-08-13   46.139999   46.330002   45.900002   45.990002   45.396511   \n",
       "606 2021-08-13   63.970001   64.099998   63.349998   63.689999   59.232819   \n",
       "..         ...         ...         ...         ...         ...         ...   \n",
       "910 2021-08-13  122.815002  123.849998  121.750000  122.852501  122.852501   \n",
       "910 2021-08-13   43.259998   43.529999   42.860001   43.450001   43.450001   \n",
       "910 2021-08-13  219.880005  220.550003  217.729996  218.570007  212.377533   \n",
       "910 2021-08-13   89.620003   89.629997   88.480003   88.680000   87.245346   \n",
       "910 2021-08-13  125.250000  125.330002  124.269997  124.639999  120.044281   \n",
       "\n",
       "      volume ticker  pct_change_close  five_day_mean  five_day_var  \\\n",
       "63   3441500    OGN          0.021194       0.031206      0.003007   \n",
       "354  2823900   OTIS          0.005100       0.001160      0.000022   \n",
       "354  2316300   CARR          0.003037      -0.000783      0.000084   \n",
       "560  2872700   CTVA         -0.001520       0.006064      0.000028   \n",
       "606  2385600    DOW         -0.004999       0.005458      0.000164   \n",
       "..       ...    ...               ...            ...           ...   \n",
       "910  1347200   DXCM         -0.002922      -0.009853      0.000273   \n",
       "910  6034400     ON          0.001152      -0.008092      0.000308   \n",
       "910  2049400    CAT         -0.007583       0.009771      0.000375   \n",
       "910  1542400   BALL         -0.008608       0.008015      0.000179   \n",
       "910   433800    GPC         -0.005029       0.000593      0.000036   \n",
       "\n",
       "     twenty_day_mean  twenty_day_var  cluster  \n",
       "63          0.009034        0.001127        0  \n",
       "354         0.003312        0.000078        2  \n",
       "354         0.006920        0.000362        2  \n",
       "560         0.005133        0.000443        2  \n",
       "606         0.003108        0.000268        3  \n",
       "..               ...             ...      ...  \n",
       "910         0.005092        0.001190        2  \n",
       "910         0.011173        0.001134        2  \n",
       "910         0.002880        0.000250        3  \n",
       "910         0.001850        0.000359        3  \n",
       "910        -0.001090        0.000182        2  \n",
       "\n",
       "[502 rows x 14 columns]"
      ]
     },
     "execution_count": 13,
     "metadata": {},
     "output_type": "execute_result"
    }
   ],
   "source": [
    "sample_df['cluster'] = labels\n",
    "sample_df"
   ]
  },
  {
   "cell_type": "code",
   "execution_count": 14,
   "metadata": {
    "pycharm": {
     "name": "#%%\n"
    }
   },
   "outputs": [],
   "source": [
    "trend_down = sample_df[sample_df['cluster'] == 2]\n",
    "trend_up = sample_df[sample_df['cluster'] == 1]\n",
    "mean_revert_down = sample_df[sample_df['cluster'] == 0]\n",
    "mean_revert_up =sample_df[sample_df['cluster'] == 3]"
   ]
  },
  {
   "cell_type": "code",
   "execution_count": 15,
   "metadata": {
    "pycharm": {
     "name": "#%%\n"
    }
   },
   "outputs": [
    {
     "name": "stdout",
     "output_type": "stream",
     "text": [
      "218\n",
      "54\n",
      "153\n",
      "77\n"
     ]
    }
   ],
   "source": [
    "print(len(trend_down))\n",
    "print(len(trend_up))\n",
    "print(len(mean_revert_down))\n",
    "print(len(mean_revert_up))"
   ]
  },
  {
   "cell_type": "code",
   "execution_count": 16,
   "metadata": {
    "pycharm": {
     "name": "#%%\n"
    }
   },
   "outputs": [],
   "source": [
    "td_clust = {\n",
    "    'pct_change_close': trend_down['pct_change_close'].mean(),\n",
    "    'five_day_mean': trend_down['five_day_mean'].mean(),\n",
    "    'five_day_var': trend_down['five_day_var'].mean(),\n",
    "    'twenty_day_mean': trend_down['twenty_day_mean'].mean(),\n",
    "    'twenty_day_var': trend_down['twenty_day_var'].mean() \n",
    "}\n",
    "\n",
    "tu_clust = {\n",
    "    'pct_change_close': trend_up['pct_change_close'].mean(),\n",
    "    'five_day_mean': trend_up['five_day_mean'].mean(),\n",
    "    'five_day_var': trend_up['five_day_var'].mean(),\n",
    "    'twenty_day_mean': trend_up['twenty_day_mean'].mean(),\n",
    "    'twenty_day_var': trend_up['twenty_day_var'].mean()\n",
    "}\n",
    "\n",
    "mrd_clust = {\n",
    "    'pct_change_close': mean_revert_down['pct_change_close'].mean(),\n",
    "    'five_day_mean': mean_revert_down['five_day_mean'].mean(),\n",
    "    'five_day_var': mean_revert_down['five_day_var'].mean(),\n",
    "    'twenty_day_mean': mean_revert_down['twenty_day_mean'].mean(),\n",
    "    'twenty_day_var': mean_revert_down['twenty_day_var'].mean() \n",
    "}\n",
    "\n",
    "mru_clust = {\n",
    "    'pct_change_close': mean_revert_up['pct_change_close'].mean(),\n",
    "    'five_day_mean': mean_revert_up['five_day_mean'].mean(),\n",
    "    'five_day_var': mean_revert_up['five_day_var'].mean(),\n",
    "    'twenty_day_mean': mean_revert_up['twenty_day_mean'].mean(),\n",
    "    'twenty_day_var': mean_revert_up['twenty_day_var'].mean() \n",
    "}"
   ]
  },
  {
   "cell_type": "code",
   "execution_count": 17,
   "metadata": {
    "pycharm": {
     "name": "#%%\n"
    }
   },
   "outputs": [
    {
     "data": {
      "text/plain": [
       "{'pct_change_close': -0.022298701506426558,\n",
       " 'five_day_mean': -0.002942809054214612,\n",
       " 'five_day_var': 0.00038492836807744237,\n",
       " 'twenty_day_mean': 0.001018374755197556,\n",
       " 'twenty_day_var': 0.0006770028074430307}"
      ]
     },
     "execution_count": 17,
     "metadata": {},
     "output_type": "execute_result"
    }
   ],
   "source": [
    "tu_clust"
   ]
  },
  {
   "cell_type": "code",
   "execution_count": 18,
   "metadata": {
    "pycharm": {
     "name": "#%%\n"
    }
   },
   "outputs": [
    {
     "data": {
      "text/plain": [
       "{'pct_change_close': 0.00030933855008617896,\n",
       " 'five_day_mean': 0.0007071752508351347,\n",
       " 'five_day_var': 0.00018096189065003627,\n",
       " 'twenty_day_mean': 0.0021469084727367507,\n",
       " 'twenty_day_var': 0.00027993101500248696}"
      ]
     },
     "execution_count": 18,
     "metadata": {},
     "output_type": "execute_result"
    }
   ],
   "source": [
    "td_clust"
   ]
  },
  {
   "cell_type": "code",
   "execution_count": 19,
   "metadata": {
    "pycharm": {
     "name": "#%%\n"
    }
   },
   "outputs": [
    {
     "data": {
      "text/plain": [
       "{'pct_change_close': -0.009624707751883265,\n",
       " 'five_day_mean': 0.004688903957606921,\n",
       " 'five_day_var': 0.00023868672663003915,\n",
       " 'twenty_day_mean': 0.0028524443289152093,\n",
       " 'twenty_day_var': 0.00036810747756278847}"
      ]
     },
     "execution_count": 19,
     "metadata": {},
     "output_type": "execute_result"
    }
   ],
   "source": [
    "mru_clust"
   ]
  },
  {
   "cell_type": "code",
   "execution_count": 20,
   "metadata": {
    "pycharm": {
     "name": "#%%\n"
    }
   },
   "outputs": [
    {
     "data": {
      "text/plain": [
       "{'pct_change_close': 0.01080826810694878,\n",
       " 'five_day_mean': 0.00318104104053203,\n",
       " 'five_day_var': 0.00016541582723517755,\n",
       " 'twenty_day_mean': 0.0018458574054899634,\n",
       " 'twenty_day_var': 0.00021359898350393092}"
      ]
     },
     "execution_count": 20,
     "metadata": {},
     "output_type": "execute_result"
    }
   ],
   "source": [
    "mrd_clust"
   ]
  },
  {
   "cell_type": "code",
   "execution_count": 21,
   "metadata": {
    "pycharm": {
     "name": "#%%\n"
    }
   },
   "outputs": [],
   "source": [
    "def centroid_dist(row, clust):\n",
    "    dist = 0\n",
    "    for name in clust:\n",
    "        dist += (row[name] - clust[name])**2\n",
    "    \n",
    "    return dist"
   ]
  },
  {
   "cell_type": "code",
   "execution_count": 22,
   "metadata": {
    "pycharm": {
     "name": "#%%\n"
    }
   },
   "outputs": [
    {
     "name": "stderr",
     "output_type": "stream",
     "text": [
      "<ipython-input-22-6ff63dd24500>:1: SettingWithCopyWarning: \n",
      "A value is trying to be set on a copy of a slice from a DataFrame.\n",
      "Try using .loc[row_indexer,col_indexer] = value instead\n",
      "\n",
      "See the caveats in the documentation: https://pandas.pydata.org/pandas-docs/stable/user_guide/indexing.html#returning-a-view-versus-a-copy\n",
      "  trend_down['centroid_dist'] = trend_down.apply(centroid_dist, clust=td_clust, axis=1)\n",
      "<ipython-input-22-6ff63dd24500>:2: SettingWithCopyWarning: \n",
      "A value is trying to be set on a copy of a slice from a DataFrame.\n",
      "Try using .loc[row_indexer,col_indexer] = value instead\n",
      "\n",
      "See the caveats in the documentation: https://pandas.pydata.org/pandas-docs/stable/user_guide/indexing.html#returning-a-view-versus-a-copy\n",
      "  trend_up['centroid_dist'] = trend_up.apply(centroid_dist, clust=tu_clust, axis=1)\n",
      "<ipython-input-22-6ff63dd24500>:3: SettingWithCopyWarning: \n",
      "A value is trying to be set on a copy of a slice from a DataFrame.\n",
      "Try using .loc[row_indexer,col_indexer] = value instead\n",
      "\n",
      "See the caveats in the documentation: https://pandas.pydata.org/pandas-docs/stable/user_guide/indexing.html#returning-a-view-versus-a-copy\n",
      "  mean_revert_down['centroid_dist'] = mean_revert_down.apply(centroid_dist, clust=mrd_clust, axis=1)\n",
      "<ipython-input-22-6ff63dd24500>:4: SettingWithCopyWarning: \n",
      "A value is trying to be set on a copy of a slice from a DataFrame.\n",
      "Try using .loc[row_indexer,col_indexer] = value instead\n",
      "\n",
      "See the caveats in the documentation: https://pandas.pydata.org/pandas-docs/stable/user_guide/indexing.html#returning-a-view-versus-a-copy\n",
      "  mean_revert_up['centroid_dist'] = mean_revert_up.apply(centroid_dist, clust=mru_clust, axis=1)\n"
     ]
    }
   ],
   "source": [
    "trend_down['centroid_dist'] = trend_down.apply(centroid_dist, clust=td_clust, axis=1)\n",
    "trend_up['centroid_dist'] = trend_up.apply(centroid_dist, clust=tu_clust, axis=1)\n",
    "mean_revert_down['centroid_dist'] = mean_revert_down.apply(centroid_dist, clust=mrd_clust, axis=1)\n",
    "mean_revert_up['centroid_dist'] = mean_revert_up.apply(centroid_dist, clust=mru_clust, axis=1)"
   ]
  },
  {
   "cell_type": "code",
   "execution_count": 23,
   "metadata": {
    "pycharm": {
     "name": "#%%\n"
    }
   },
   "outputs": [],
   "source": [
    "td_short = trend_down.sort_values('centroid_dist', ascending=True).head(3)['ticker']\n",
    "tu_long = trend_up.sort_values('centroid_dist', ascending=True).head(3)['ticker']\n",
    "mr_short = mean_revert_down.sort_values('centroid_dist', ascending=True).head(3)['ticker']\n",
    "mr_long = mean_revert_up.sort_values('centroid_dist', ascending=True).head(3)['ticker']"
   ]
  },
  {
   "cell_type": "code",
   "execution_count": 24,
   "metadata": {
    "pycharm": {
     "name": "#%%\n"
    }
   },
   "outputs": [
    {
     "name": "stdout",
     "output_type": "stream",
     "text": [
      "Short ['IBM', 'GOOG', 'FAST'] for trend\n",
      "Long ['F', 'COP', 'GNRC'] for trend\n",
      "Short ['MSFT', 'MSI', 'EVRG'] for mean reverting\n",
      "Long ['IRM', 'FITB', 'TRGP'] for mean reverting\n"
     ]
    }
   ],
   "source": [
    "print(f'Short {list(td_short)} for trend')\n",
    "print(f'Long {list(tu_long)} for trend')\n",
    "print(f'Short {list(mr_short)} for mean reverting')\n",
    "print(f'Long {list(mr_long)} for mean reverting')"
   ]
  }
 ],
 "metadata": {
  "kernelspec": {
   "display_name": "Python 3",
   "language": "python",
   "name": "python3"
  },
  "language_info": {
   "codemirror_mode": {
    "name": "ipython",
    "version": 3
   },
   "file_extension": ".py",
   "mimetype": "text/x-python",
   "name": "python",
   "nbconvert_exporter": "python",
   "pygments_lexer": "ipython3",
   "version": "3.9.4"
  },
  "orig_nbformat": 4,
  "vscode": {
   "interpreter": {
    "hash": "742bf065e07fdadc772a776666a76444083e5a01e18d4ddf9bb7b0199752bad5"
   }
  }
 },
 "nbformat": 4,
 "nbformat_minor": 2
}
