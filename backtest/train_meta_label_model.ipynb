{
 "cells": [
  {
   "cell_type": "code",
   "execution_count": 1,
   "metadata": {
    "pycharm": {
     "name": "#%%\n"
    }
   },
   "outputs": [],
   "source": [
    "import pandas as pd\n",
    "import datetime as dt\n",
    "from sklearn.linear_model import LogisticRegression\n",
    "from sklearn.ensemble import RandomForestClassifier\n",
    "from sklearn.svm import SVC\n",
    "import xgboost as xgb\n",
    "from sklearn.neural_network import MLPClassifier\n",
    "from sklearn.model_selection import train_test_split\n",
    "from sklearn.metrics import recall_score, accuracy_score\n",
    "from sklearn.metrics import plot_confusion_matrix"
   ]
  },
  {
   "cell_type": "code",
   "execution_count": 2,
   "metadata": {
    "pycharm": {
     "name": "#%%\n"
    }
   },
   "outputs": [
    {
     "name": "stdout",
     "output_type": "stream",
     "text": [
      "<class 'pandas.core.frame.DataFrame'>\n",
      "RangeIndex: 3720 entries, 0 to 3719\n",
      "Data columns (total 14 columns):\n",
      " #   Column           Non-Null Count  Dtype         \n",
      "---  ------           --------------  -----         \n",
      " 0   Unnamed: 0       3720 non-null   int64         \n",
      " 1   entry_date       3720 non-null   datetime64[ns]\n",
      " 2   ticker           3720 non-null   object        \n",
      " 3   entry_price      3720 non-null   float64       \n",
      " 4   side             3720 non-null   object        \n",
      " 5   pct_change_open  3720 non-null   float64       \n",
      " 6   five_day_mean    3720 non-null   float64       \n",
      " 7   five_day_var     3720 non-null   float64       \n",
      " 8   twenty_day_mean  3720 non-null   float64       \n",
      " 9   twenty_day_var   3720 non-null   float64       \n",
      " 10  exit_price       3720 non-null   float64       \n",
      " 11  win              3720 non-null   int64         \n",
      " 12  pct_change       3720 non-null   float64       \n",
      " 13  type             3720 non-null   object        \n",
      "dtypes: datetime64[ns](1), float64(8), int64(2), object(3)\n",
      "memory usage: 407.0+ KB\n"
     ]
    }
   ],
   "source": [
    "trade_hist = pd.read_csv(\"../data/mid_cap_train.csv\")\n",
    "trade_hist['entry_date'] = pd.to_datetime(trade_hist['entry_date'])\n",
    "trade_hist.info()"
   ]
  },
  {
   "cell_type": "code",
   "execution_count": 3,
   "metadata": {
    "pycharm": {
     "name": "#%%\n"
    }
   },
   "outputs": [
    {
     "data": {
      "text/plain": [
       "0.49193548387096775"
      ]
     },
     "execution_count": 3,
     "metadata": {},
     "output_type": "execute_result"
    }
   ],
   "source": [
    "trade_hist['win'].mean()"
   ]
  },
  {
   "cell_type": "code",
   "execution_count": 4,
   "metadata": {
    "pycharm": {
     "name": "#%%\n"
    }
   },
   "outputs": [
    {
     "data": {
      "text/html": [
       "<div>\n",
       "<style scoped>\n",
       "    .dataframe tbody tr th:only-of-type {\n",
       "        vertical-align: middle;\n",
       "    }\n",
       "\n",
       "    .dataframe tbody tr th {\n",
       "        vertical-align: top;\n",
       "    }\n",
       "\n",
       "    .dataframe thead th {\n",
       "        text-align: right;\n",
       "    }\n",
       "</style>\n",
       "<table border=\"1\" class=\"dataframe\">\n",
       "  <thead>\n",
       "    <tr style=\"text-align: right;\">\n",
       "      <th></th>\n",
       "      <th>Unnamed: 0</th>\n",
       "      <th>entry_date</th>\n",
       "      <th>ticker</th>\n",
       "      <th>entry_price</th>\n",
       "      <th>side</th>\n",
       "      <th>pct_change_open</th>\n",
       "      <th>five_day_mean</th>\n",
       "      <th>five_day_var</th>\n",
       "      <th>twenty_day_mean</th>\n",
       "      <th>twenty_day_var</th>\n",
       "      <th>exit_price</th>\n",
       "      <th>win</th>\n",
       "      <th>pct_change</th>\n",
       "      <th>type</th>\n",
       "    </tr>\n",
       "  </thead>\n",
       "  <tbody>\n",
       "    <tr>\n",
       "      <th>0</th>\n",
       "      <td>0</td>\n",
       "      <td>2019-02-07</td>\n",
       "      <td>NOV</td>\n",
       "      <td>32.560001</td>\n",
       "      <td>1</td>\n",
       "      <td>0.084610</td>\n",
       "      <td>0.016555</td>\n",
       "      <td>0.001528</td>\n",
       "      <td>0.007088</td>\n",
       "      <td>0.000652</td>\n",
       "      <td>28.400000</td>\n",
       "      <td>0</td>\n",
       "      <td>0.872236</td>\n",
       "      <td>1</td>\n",
       "    </tr>\n",
       "    <tr>\n",
       "      <th>1</th>\n",
       "      <td>1</td>\n",
       "      <td>2019-02-07</td>\n",
       "      <td>HQY</td>\n",
       "      <td>69.830002</td>\n",
       "      <td>1</td>\n",
       "      <td>0.074308</td>\n",
       "      <td>0.020394</td>\n",
       "      <td>0.001046</td>\n",
       "      <td>0.013884</td>\n",
       "      <td>0.000699</td>\n",
       "      <td>71.900002</td>\n",
       "      <td>1</td>\n",
       "      <td>1.029643</td>\n",
       "      <td>1</td>\n",
       "    </tr>\n",
       "    <tr>\n",
       "      <th>2</th>\n",
       "      <td>2</td>\n",
       "      <td>2019-02-07</td>\n",
       "      <td>HBI</td>\n",
       "      <td>16.670000</td>\n",
       "      <td>1</td>\n",
       "      <td>0.069961</td>\n",
       "      <td>0.022440</td>\n",
       "      <td>0.000742</td>\n",
       "      <td>0.009535</td>\n",
       "      <td>0.000488</td>\n",
       "      <td>18.629999</td>\n",
       "      <td>1</td>\n",
       "      <td>1.117576</td>\n",
       "      <td>1</td>\n",
       "    </tr>\n",
       "    <tr>\n",
       "      <th>3</th>\n",
       "      <td>3</td>\n",
       "      <td>2019-02-07</td>\n",
       "      <td>VSH</td>\n",
       "      <td>21.520000</td>\n",
       "      <td>1</td>\n",
       "      <td>0.008908</td>\n",
       "      <td>0.020886</td>\n",
       "      <td>0.000900</td>\n",
       "      <td>0.010387</td>\n",
       "      <td>0.000672</td>\n",
       "      <td>21.500000</td>\n",
       "      <td>0</td>\n",
       "      <td>0.999071</td>\n",
       "      <td>0</td>\n",
       "    </tr>\n",
       "    <tr>\n",
       "      <th>4</th>\n",
       "      <td>4</td>\n",
       "      <td>2019-02-07</td>\n",
       "      <td>NYCB</td>\n",
       "      <td>12.100000</td>\n",
       "      <td>1</td>\n",
       "      <td>0.011706</td>\n",
       "      <td>0.011542</td>\n",
       "      <td>0.000212</td>\n",
       "      <td>0.009179</td>\n",
       "      <td>0.000223</td>\n",
       "      <td>11.950000</td>\n",
       "      <td>0</td>\n",
       "      <td>0.987603</td>\n",
       "      <td>0</td>\n",
       "    </tr>\n",
       "    <tr>\n",
       "      <th>...</th>\n",
       "      <td>...</td>\n",
       "      <td>...</td>\n",
       "      <td>...</td>\n",
       "      <td>...</td>\n",
       "      <td>...</td>\n",
       "      <td>...</td>\n",
       "      <td>...</td>\n",
       "      <td>...</td>\n",
       "      <td>...</td>\n",
       "      <td>...</td>\n",
       "      <td>...</td>\n",
       "      <td>...</td>\n",
       "      <td>...</td>\n",
       "      <td>...</td>\n",
       "    </tr>\n",
       "    <tr>\n",
       "      <th>3715</th>\n",
       "      <td>3715</td>\n",
       "      <td>2020-07-20</td>\n",
       "      <td>PK</td>\n",
       "      <td>9.080000</td>\n",
       "      <td>1</td>\n",
       "      <td>-0.062951</td>\n",
       "      <td>-0.013429</td>\n",
       "      <td>0.001747</td>\n",
       "      <td>-0.009802</td>\n",
       "      <td>0.001810</td>\n",
       "      <td>9.080000</td>\n",
       "      <td>0</td>\n",
       "      <td>1.000000</td>\n",
       "      <td>0</td>\n",
       "    </tr>\n",
       "    <tr>\n",
       "      <th>3716</th>\n",
       "      <td>3716</td>\n",
       "      <td>2020-07-20</td>\n",
       "      <td>MTDR</td>\n",
       "      <td>8.820000</td>\n",
       "      <td>0</td>\n",
       "      <td>-0.017817</td>\n",
       "      <td>0.023989</td>\n",
       "      <td>0.001759</td>\n",
       "      <td>-0.007168</td>\n",
       "      <td>0.003030</td>\n",
       "      <td>8.820000</td>\n",
       "      <td>0</td>\n",
       "      <td>0.000000</td>\n",
       "      <td>1</td>\n",
       "    </tr>\n",
       "    <tr>\n",
       "      <th>3717</th>\n",
       "      <td>3717</td>\n",
       "      <td>2020-07-20</td>\n",
       "      <td>CALX</td>\n",
       "      <td>15.970000</td>\n",
       "      <td>0</td>\n",
       "      <td>0.059019</td>\n",
       "      <td>0.015932</td>\n",
       "      <td>0.001176</td>\n",
       "      <td>0.006821</td>\n",
       "      <td>0.001052</td>\n",
       "      <td>15.970000</td>\n",
       "      <td>0</td>\n",
       "      <td>0.000000</td>\n",
       "      <td>0</td>\n",
       "    </tr>\n",
       "    <tr>\n",
       "      <th>3718</th>\n",
       "      <td>3718</td>\n",
       "      <td>2020-07-20</td>\n",
       "      <td>NARI</td>\n",
       "      <td>53.750000</td>\n",
       "      <td>0</td>\n",
       "      <td>0.055992</td>\n",
       "      <td>-0.000621</td>\n",
       "      <td>0.002774</td>\n",
       "      <td>0.005640</td>\n",
       "      <td>0.001142</td>\n",
       "      <td>53.750000</td>\n",
       "      <td>0</td>\n",
       "      <td>0.000000</td>\n",
       "      <td>0</td>\n",
       "    </tr>\n",
       "    <tr>\n",
       "      <th>3719</th>\n",
       "      <td>3719</td>\n",
       "      <td>2020-07-20</td>\n",
       "      <td>DAR</td>\n",
       "      <td>27.740000</td>\n",
       "      <td>0</td>\n",
       "      <td>0.046003</td>\n",
       "      <td>0.025925</td>\n",
       "      <td>0.001321</td>\n",
       "      <td>0.007480</td>\n",
       "      <td>0.000989</td>\n",
       "      <td>27.740000</td>\n",
       "      <td>0</td>\n",
       "      <td>0.000000</td>\n",
       "      <td>0</td>\n",
       "    </tr>\n",
       "  </tbody>\n",
       "</table>\n",
       "<p>3720 rows × 14 columns</p>\n",
       "</div>"
      ],
      "text/plain": [
       "      Unnamed: 0 entry_date ticker  entry_price  side  pct_change_open  \\\n",
       "0              0 2019-02-07    NOV    32.560001     1         0.084610   \n",
       "1              1 2019-02-07    HQY    69.830002     1         0.074308   \n",
       "2              2 2019-02-07    HBI    16.670000     1         0.069961   \n",
       "3              3 2019-02-07    VSH    21.520000     1         0.008908   \n",
       "4              4 2019-02-07   NYCB    12.100000     1         0.011706   \n",
       "...          ...        ...    ...          ...   ...              ...   \n",
       "3715        3715 2020-07-20     PK     9.080000     1        -0.062951   \n",
       "3716        3716 2020-07-20   MTDR     8.820000     0        -0.017817   \n",
       "3717        3717 2020-07-20   CALX    15.970000     0         0.059019   \n",
       "3718        3718 2020-07-20   NARI    53.750000     0         0.055992   \n",
       "3719        3719 2020-07-20    DAR    27.740000     0         0.046003   \n",
       "\n",
       "      five_day_mean  five_day_var  twenty_day_mean  twenty_day_var  \\\n",
       "0          0.016555      0.001528         0.007088        0.000652   \n",
       "1          0.020394      0.001046         0.013884        0.000699   \n",
       "2          0.022440      0.000742         0.009535        0.000488   \n",
       "3          0.020886      0.000900         0.010387        0.000672   \n",
       "4          0.011542      0.000212         0.009179        0.000223   \n",
       "...             ...           ...              ...             ...   \n",
       "3715      -0.013429      0.001747        -0.009802        0.001810   \n",
       "3716       0.023989      0.001759        -0.007168        0.003030   \n",
       "3717       0.015932      0.001176         0.006821        0.001052   \n",
       "3718      -0.000621      0.002774         0.005640        0.001142   \n",
       "3719       0.025925      0.001321         0.007480        0.000989   \n",
       "\n",
       "      exit_price  win  pct_change  type  \n",
       "0      28.400000    0    0.872236     1  \n",
       "1      71.900002    1    1.029643     1  \n",
       "2      18.629999    1    1.117576     1  \n",
       "3      21.500000    0    0.999071     0  \n",
       "4      11.950000    0    0.987603     0  \n",
       "...          ...  ...         ...   ...  \n",
       "3715    9.080000    0    1.000000     0  \n",
       "3716    8.820000    0    0.000000     1  \n",
       "3717   15.970000    0    0.000000     0  \n",
       "3718   53.750000    0    0.000000     0  \n",
       "3719   27.740000    0    0.000000     0  \n",
       "\n",
       "[3720 rows x 14 columns]"
      ]
     },
     "execution_count": 4,
     "metadata": {},
     "output_type": "execute_result"
    }
   ],
   "source": [
    "trade_hist['side'] = trade_hist['side'].apply(lambda x: 1 if x == 'long' else 0)\n",
    "trade_hist['type'] = trade_hist['type'].apply(lambda x: 1 if x == 'trend' else 0)\n",
    "trade_hist"
   ]
  },
  {
   "cell_type": "code",
   "execution_count": 5,
   "metadata": {
    "pycharm": {
     "name": "#%%\n"
    }
   },
   "outputs": [
    {
     "data": {
      "text/plain": [
       "Index(['Unnamed: 0', 'entry_date', 'ticker', 'entry_price', 'side',\n",
       "       'pct_change_open', 'five_day_mean', 'five_day_var', 'twenty_day_mean',\n",
       "       'twenty_day_var', 'exit_price', 'win', 'pct_change', 'type'],\n",
       "      dtype='object')"
      ]
     },
     "execution_count": 5,
     "metadata": {},
     "output_type": "execute_result"
    }
   ],
   "source": [
    "trade_hist.columns"
   ]
  },
  {
   "cell_type": "code",
   "execution_count": 6,
   "metadata": {
    "pycharm": {
     "name": "#%%\n"
    }
   },
   "outputs": [],
   "source": [
    "X = trade_hist[[\n",
    "    'side',\n",
    "    'type', \n",
    "    'pct_change_open', \n",
    "    'five_day_mean', \n",
    "    'five_day_var',\n",
    "    'twenty_day_mean',\n",
    "    'twenty_day_var' \n",
    "    ]]\n",
    "y = trade_hist['win']\n",
    "\n",
    "X_train, X_test, y_train, y_test = train_test_split(X, y, test_size=0.2, random_state=0)"
   ]
  },
  {
   "cell_type": "code",
   "execution_count": 7,
   "metadata": {
    "pycharm": {
     "name": "#%%\n"
    }
   },
   "outputs": [
    {
     "name": "stdout",
     "output_type": "stream",
     "text": [
      "Recall:  0.7411444141689373\n",
      "Accuracy:  0.5026881720430108\n"
     ]
    },
    {
     "data": {
      "text/plain": [
       "<sklearn.metrics._plot.confusion_matrix.ConfusionMatrixDisplay at 0x1eb6b755370>"
      ]
     },
     "execution_count": 7,
     "metadata": {},
     "output_type": "execute_result"
    },
    {
     "data": {
      "image/png": "[encoded data removed]",
      "text/plain": [
       "<Figure size 432x288 with 2 Axes>"
      ]
     },
     "metadata": {
      "needs_background": "light"
     },
     "output_type": "display_data"
    }
   ],
   "source": [
    "weights = {1:1.1, 0:1}\n",
    "model = LogisticRegression(\n",
    "    random_state=69, \n",
    "    class_weight=weights,\n",
    "    solver='saga',\n",
    "    penalty='l1'\n",
    ").fit(X_train, y_train)\n",
    "preds = model.predict(X_test)\n",
    "print(\"Recall: \", recall_score(y_test, preds))\n",
    "print(\"Accuracy: \", accuracy_score(y_test, preds))\n",
    "plot_confusion_matrix(model, X_test, y_test)"
   ]
  },
  {
   "cell_type": "code",
   "execution_count": 8,
   "metadata": {
    "pycharm": {
     "name": "#%%\n"
    }
   },
   "outputs": [
    {
     "name": "stdout",
     "output_type": "stream",
     "text": [
      "Recall:  0.3569482288828338\n",
      "Accuracy:  0.5201612903225806\n"
     ]
    },
    {
     "data": {
      "text/plain": [
       "<sklearn.metrics._plot.confusion_matrix.ConfusionMatrixDisplay at 0x1eb6d335a30>"
      ]
     },
     "execution_count": 8,
     "metadata": {},
     "output_type": "execute_result"
    },
    {
     "data": {
      "image/png": "[encoded data removed]",
      "text/plain": [
       "<Figure size 432x288 with 2 Axes>"
      ]
     },
     "metadata": {
      "needs_background": "light"
     },
     "output_type": "display_data"
    }
   ],
   "source": [
    "model = MLPClassifier(\n",
    "    [4, 2], \n",
    "    random_state=69, \n",
    "    early_stopping=True,\n",
    "    activation='tanh'\n",
    ").fit(X_train, y_train)\n",
    "preds = model.predict(X_test)\n",
    "print(\"Recall: \", recall_score(y_test, preds))\n",
    "print(\"Accuracy: \", accuracy_score(y_test, preds))\n",
    "plot_confusion_matrix(model, X_test, y_test)"
   ]
  },
  {
   "cell_type": "code",
   "execution_count": 9,
   "metadata": {
    "pycharm": {
     "name": "#%%\n"
    }
   },
   "outputs": [
    {
     "name": "stdout",
     "output_type": "stream",
     "text": [
      "Recall:  0.7520435967302452\n",
      "Accuracy:  0.5053763440860215\n"
     ]
    },
    {
     "data": {
      "text/plain": [
       "<sklearn.metrics._plot.confusion_matrix.ConfusionMatrixDisplay at 0x1eb48d939d0>"
      ]
     },
     "execution_count": 9,
     "metadata": {},
     "output_type": "execute_result"
    },
    {
     "data": {
      "image/png": "[encoded data removed]",
      "text/plain": [
       "<Figure size 432x288 with 2 Axes>"
      ]
     },
     "metadata": {
      "needs_background": "light"
     },
     "output_type": "display_data"
    }
   ],
   "source": [
    "weights = {1:1.1, 0:1}\n",
    "model = RandomForestClassifier(max_depth=3, random_state=69, class_weight=weights).fit(X_train, y_train)\n",
    "preds = model.predict(X_test)\n",
    "#print(preds)\n",
    "print(\"Recall: \", recall_score(y_test, preds))\n",
    "print(\"Accuracy: \", accuracy_score(y_test, preds))\n",
    "plot_confusion_matrix(model, X_test, y_test)"
   ]
  },
  {
   "cell_type": "code",
   "execution_count": 10,
   "metadata": {
    "pycharm": {
     "name": "#%%\n"
    }
   },
   "outputs": [
    {
     "name": "stdout",
     "output_type": "stream",
     "text": [
      "Recall:  0.3079019073569482\n",
      "Accuracy:  0.5201612903225806\n"
     ]
    },
    {
     "data": {
      "text/plain": [
       "<sklearn.metrics._plot.confusion_matrix.ConfusionMatrixDisplay at 0x1eb6d3fbe50>"
      ]
     },
     "execution_count": 10,
     "metadata": {},
     "output_type": "execute_result"
    },
    {
     "data": {
      "image/png": "[encoded data removed]",
      "text/plain": [
       "<Figure size 432x288 with 2 Axes>"
      ]
     },
     "metadata": {
      "needs_background": "light"
     },
     "output_type": "display_data"
    }
   ],
   "source": [
    "model = SVC(random_state=69).fit(X_train, y_train)\n",
    "preds = model.predict(X_test)\n",
    "print(\"Recall: \", recall_score(y_test, preds))\n",
    "print(\"Accuracy: \", accuracy_score(y_test, preds))\n",
    "plot_confusion_matrix(model, X_test, y_test)"
   ]
  },
  {
   "cell_type": "code",
   "execution_count": 11,
   "metadata": {
    "pycharm": {
     "name": "#%%\n"
    }
   },
   "outputs": [
    {
     "name": "stdout",
     "output_type": "stream",
     "text": [
      "Recall:  0.5803814713896458\n",
      "Accuracy:  0.4838709677419355\n"
     ]
    },
    {
     "data": {
      "text/plain": [
       "<sklearn.metrics._plot.confusion_matrix.ConfusionMatrixDisplay at 0x1eb6d5abfa0>"
      ]
     },
     "execution_count": 11,
     "metadata": {},
     "output_type": "execute_result"
    },
    {
     "data": {
      "image/png": "[encoded data removed]",
      "text/plain": [
       "<Figure size 432x288 with 2 Axes>"
      ]
     },
     "metadata": {
      "needs_background": "light"
     },
     "output_type": "display_data"
    }
   ],
   "source": [
    "model = xgb.XGBClassifier(random_state=69, scale_pos_weight=1.5).fit(X_train, y_train)\n",
    "preds = model.predict(X_test)\n",
    "print(\"Recall: \", recall_score(y_test, preds))\n",
    "print(\"Accuracy: \", accuracy_score(y_test, preds))\n",
    "plot_confusion_matrix(model, X_test, y_test)"
   ]
  }
 ],
 "metadata": {
  "kernelspec": {
   "display_name": "Python 3",
   "language": "python",
   "name": "python3"
  },
  "language_info": {
   "codemirror_mode": {
    "name": "ipython",
    "version": 3
   },
   "file_extension": ".py",
   "mimetype": "text/x-python",
   "name": "python",
   "nbconvert_exporter": "python",
   "pygments_lexer": "ipython3",
   "version": "3.9.4"
  },
  "orig_nbformat": 4,
  "vscode": {
   "interpreter": {
    "hash": "742bf065e07fdadc772a776666a76444083e5a01e18d4ddf9bb7b0199752bad5"
   }
  }
 },
 "nbformat": 4,
 "nbformat_minor": 2
}
